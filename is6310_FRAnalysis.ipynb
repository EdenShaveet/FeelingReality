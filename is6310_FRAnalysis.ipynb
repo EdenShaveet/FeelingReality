{
  "nbformat": 4,
  "nbformat_minor": 0,
  "metadata": {
    "colab": {
      "provenance": [],
      "authorship_tag": "ABX9TyOHIFNon5rkQn/KrxWH3u9r"
    },
    "kernelspec": {
      "name": "python3",
      "display_name": "Python 3"
    },
    "language_info": {
      "name": "python"
    }
  },
  "cells": [
    {
      "cell_type": "markdown",
      "source": [
        "#Feeling Reality Data Analysis\n"
      ],
      "metadata": {
        "id": "iAYC65s4mWqC"
      }
    },
    {
      "cell_type": "code",
      "source": [
        "!python --version"
      ],
      "metadata": {
        "id": "qI0fTNrGjQIh"
      },
      "execution_count": null,
      "outputs": []
    },
    {
      "cell_type": "markdown",
      "source": [
        "## Mount Google Drive"
      ],
      "metadata": {
        "id": "i9E8JOyge3JE"
      }
    },
    {
      "cell_type": "code",
      "execution_count": null,
      "metadata": {
        "id": "QyitffpQmDso"
      },
      "outputs": [],
      "source": [
        "from google.colab import drive #mount Drive\n",
        "drive.mount('/content/drive')"
      ]
    },
    {
      "cell_type": "markdown",
      "source": [
        "## Import Packages"
      ],
      "metadata": {
        "id": "7FvIRcrOfXLm"
      }
    },
    {
      "cell_type": "code",
      "execution_count": null,
      "metadata": {
        "id": "NqxySysa6T3k"
      },
      "outputs": [],
      "source": [
        "import pandas as pd\n",
        "import numpy as np\n",
        "import matplotlib.pyplot as plt\n",
        "import seaborn as sns\n",
        "import re\n",
        "import matplotlib.pyplot as plt"
      ]
    },
    {
      "cell_type": "markdown",
      "source": [
        "## Read in Data"
      ],
      "metadata": {
        "id": "YcwVZaYwfdPI"
      }
    },
    {
      "cell_type": "code",
      "source": [
        "df=pd.read_excel('<path>') #comment out and import from your own path as needed"
      ],
      "metadata": {
        "id": "ApBYpBfq2oF4"
      },
      "execution_count": null,
      "outputs": []
    },
    {
      "cell_type": "code",
      "source": [
        "df"
      ],
      "metadata": {
        "id": "fnIqjGc06pJJ"
      },
      "execution_count": null,
      "outputs": []
    },
    {
      "cell_type": "markdown",
      "source": [
        "## Preprocessing"
      ],
      "metadata": {
        "id": "RD6kggT_Ffd9"
      }
    },
    {
      "cell_type": "markdown",
      "source": [
        "Subsetting Demographics"
      ],
      "metadata": {
        "id": "QH42fkxQnygH"
      }
    },
    {
      "cell_type": "code",
      "source": [
        "df = df.rename(columns={'post_Q23': 'age', 'post_Q24':'gender', 'post_Q25':'race_ethnicity'})\n",
        "df"
      ],
      "metadata": {
        "id": "iLBnqKqgW33F"
      },
      "execution_count": null,
      "outputs": []
    },
    {
      "cell_type": "code",
      "source": [
        "demographics_columns = ['ID', 'condition_order', 'age', 'gender', 'race_ethnicity']\n",
        "demographics_df = df[demographics_columns]\n",
        "demographics_df"
      ],
      "metadata": {
        "id": "G37WFCQbXbhM"
      },
      "execution_count": null,
      "outputs": []
    },
    {
      "cell_type": "code",
      "source": [
        "demographics_df['age'].value_counts()"
      ],
      "metadata": {
        "id": "b1Cp27ewvCnT"
      },
      "execution_count": null,
      "outputs": []
    },
    {
      "cell_type": "code",
      "source": [
        "demographics_df['gender'].value_counts()"
      ],
      "metadata": {
        "id": "O9f21SkvvUPf"
      },
      "execution_count": null,
      "outputs": []
    },
    {
      "cell_type": "code",
      "source": [
        "demographics_df['race_ethnicity'].value_counts()"
      ],
      "metadata": {
        "id": "ASbCbiH2vV_e"
      },
      "execution_count": null,
      "outputs": []
    },
    {
      "cell_type": "code",
      "source": [
        "df.columns"
      ],
      "metadata": {
        "id": "31rt22T4X1Ot"
      },
      "execution_count": null,
      "outputs": []
    },
    {
      "cell_type": "markdown",
      "source": [
        "Subsetting pre, during, & post"
      ],
      "metadata": {
        "id": "wWsowyo23USq"
      }
    },
    {
      "cell_type": "code",
      "source": [
        "#pre\n",
        "pre_columns = ['ID', 'condition_order', 'pre_Q1', 'pre_Q2', 'pre_Q3', 'pre_Q4', 'pre_Q5', 'pre_Q6','pre_Q7', 'pre_Q8', 'pre_Q9', 'pre_Q10']\n",
        "pre_df = df[pre_columns]\n",
        "pre_df"
      ],
      "metadata": {
        "id": "-EDTmG_03Znr"
      },
      "execution_count": null,
      "outputs": []
    },
    {
      "cell_type": "code",
      "source": [
        "pre_rename_mapping = {f\"pre_Q{i}\": f\"pre_RSE_{i}\" for i in range(1, 11)}\n",
        "\n",
        "# Rename the columns\n",
        "pre_df = pre_df.rename(columns=pre_rename_mapping)\n",
        "pre_df"
      ],
      "metadata": {
        "id": "PBViQpe7nv4T"
      },
      "execution_count": null,
      "outputs": []
    },
    {
      "cell_type": "code",
      "source": [
        "#during\n",
        "during_columns = ['ID', 'condition_order', 'during_Q1', 'during_Q2', 'during_Q3', 'during_Q4', 'during_Q5','during_Q6', 'during_Q7', 'during_Q8', 'during_Q9', 'during_Q10', 'during_Q11', 'during_Q12',\n",
        "                  'during_Q13', 'during_Q14', 'during_Q15', 'during_Q16', 'during_Q17', 'during_Q18', 'during_Q19', 'during_Q20', 'during_Q21', 'during_Q22']\n",
        "during_df = df[during_columns]\n",
        "during_df"
      ],
      "metadata": {
        "id": "qrE67Bns4CLf"
      },
      "execution_count": null,
      "outputs": []
    },
    {
      "cell_type": "code",
      "source": [
        "#post\n",
        "post_columns = ['ID', 'condition_order','post_Q1', 'post_Q2', 'post_Q3', 'post_Q4',\n",
        "       'post_Q5', 'post_Q6', 'post_Q7', 'post_Q8', 'post_Q9', 'post_Q10',\n",
        "       'post_Q11', 'post_Q12', 'post_Q13', 'post_Q14', 'post_Q15', 'post_Q16',\n",
        "       'post_Q17', 'post_Q18', 'post_Q19', 'post_Q20', 'post_Q21', 'post_Q22']\n",
        "post_df = df[post_columns]\n",
        "post_df"
      ],
      "metadata": {
        "id": "VvbukiGS6YTj"
      },
      "execution_count": null,
      "outputs": []
    },
    {
      "cell_type": "markdown",
      "source": [
        "Subsetting mirror and non-mirror based on condition order from during and post dfs"
      ],
      "metadata": {
        "id": "s9u8Ds9A6Upi"
      }
    },
    {
      "cell_type": "code",
      "source": [
        "mirror_df = pd.DataFrame()\n",
        "noMirror_df = pd.DataFrame()"
      ],
      "metadata": {
        "id": "-5-j6HYZ9GF1"
      },
      "execution_count": null,
      "outputs": []
    },
    {
      "cell_type": "code",
      "source": [
        "for index, row in df.iterrows():\n",
        "    try:\n",
        "        if row['condition_order'] == 'm1':\n",
        "            during_row = during_df.loc[[index]].copy()\n",
        "            during_row['ID'] = row['ID']\n",
        "            during_row['condition_order'] = row['condition_order']\n",
        "            mirror_df = pd.concat([mirror_df, during_row], ignore_index=True)\n",
        "\n",
        "            post_row = post_df.loc[[index]].copy()\n",
        "            post_row['ID'] = row['ID']\n",
        "            post_row['condition_order'] = row['condition_order']\n",
        "            noMirror_df = pd.concat([noMirror_df, post_row], ignore_index=True)\n",
        "\n",
        "        elif row['condition_order'] == 'm2':\n",
        "            during_row = during_df.loc[[index]].copy()\n",
        "            during_row['ID'] = row['ID']\n",
        "            during_row['condition_order'] = row['condition_order']\n",
        "            noMirror_df = pd.concat([noMirror_df, during_row], ignore_index=True)\n",
        "\n",
        "            post_row = post_df.loc[[index]].copy()\n",
        "            post_row['ID'] = row['ID']\n",
        "            post_row['condition_order'] = row['condition_order']\n",
        "            mirror_df = pd.concat([mirror_df, post_row], ignore_index=True)\n",
        "    except KeyError as e:\n",
        "        print(f\"Missing index in during_df or post_df: {e}\")\n",
        "        continue"
      ],
      "metadata": {
        "id": "WLSL_Oq_9D_X"
      },
      "execution_count": null,
      "outputs": []
    },
    {
      "cell_type": "code",
      "source": [
        "mirror_df.head()"
      ],
      "metadata": {
        "id": "7BQtHNS0R-Le"
      },
      "execution_count": null,
      "outputs": []
    },
    {
      "cell_type": "code",
      "source": [
        "noMirror_df.head()"
      ],
      "metadata": {
        "id": "hpeRpdJuSBL7"
      },
      "execution_count": null,
      "outputs": []
    },
    {
      "cell_type": "markdown",
      "source": [
        "Within each subset, creating during and post subsets:\n",
        "* mirror_during\n",
        "* mirror_post\n",
        "* noMirror_during\n",
        "* noMirror_post"
      ],
      "metadata": {
        "id": "PEWJPN94FIeA"
      }
    },
    {
      "cell_type": "code",
      "source": [
        "#mirror_during\n",
        "mirror_during = mirror_df[during_columns]\n",
        "mirror_during"
      ],
      "metadata": {
        "id": "FgmSaErvOYX9"
      },
      "execution_count": null,
      "outputs": []
    },
    {
      "cell_type": "code",
      "source": [
        "#mirror_post\n",
        "mirror_post = mirror_df[post_columns]\n",
        "mirror_post"
      ],
      "metadata": {
        "id": "yo465jVOKPGo"
      },
      "execution_count": null,
      "outputs": []
    },
    {
      "cell_type": "code",
      "source": [
        "#noMirror_during\n",
        "noMirror_during = noMirror_df[during_columns]\n",
        "noMirror_during"
      ],
      "metadata": {
        "id": "xcfd6CdSK6Zz"
      },
      "execution_count": null,
      "outputs": []
    },
    {
      "cell_type": "code",
      "source": [
        "#noMirror_post\n",
        "noMirror_post = noMirror_df[post_columns]\n",
        "noMirror_post"
      ],
      "metadata": {
        "id": "dh4zJw11LDor"
      },
      "execution_count": null,
      "outputs": []
    },
    {
      "cell_type": "markdown",
      "source": [
        "Intuitively renaming RSE & VEQ fields"
      ],
      "metadata": {
        "id": "woMOCLDboscN"
      }
    },
    {
      "cell_type": "code",
      "source": [
        "def rename_mirror_during_column(col):\n",
        "    match = re.match(r\"during_Q(\\d+)\", col)\n",
        "    if match:\n",
        "        question_number = int(match.group(1))\n",
        "        if question_number <= 12:\n",
        "            return f\"mirror_VEQ_{question_number}\"\n",
        "        else:\n",
        "            return f\"mirror_RSE_{question_number - 12}\"\n",
        "    return col\n",
        "\n",
        "mirror_during = mirror_during.rename(columns=rename_mirror_during_column)"
      ],
      "metadata": {
        "id": "atLtnFT3OPOJ"
      },
      "execution_count": null,
      "outputs": []
    },
    {
      "cell_type": "code",
      "source": [
        "mirror_during.columns"
      ],
      "metadata": {
        "id": "j21ERo_VS2DQ"
      },
      "execution_count": null,
      "outputs": []
    },
    {
      "cell_type": "code",
      "source": [
        "def rename_mirror_post_column(col):\n",
        "    match = re.match(r\"post_Q(\\d+)\", col)\n",
        "    if match:\n",
        "        question_number = int(match.group(1))\n",
        "        if question_number <= 12:\n",
        "            return f\"mirror_VEQ_{question_number}\"\n",
        "        else:\n",
        "            return f\"mirror_RSE_{question_number - 12}\"\n",
        "    return col\n",
        "\n",
        "mirror_post = mirror_post.rename(columns=rename_mirror_post_column)"
      ],
      "metadata": {
        "id": "FL-4L4D1Oz6D"
      },
      "execution_count": null,
      "outputs": []
    },
    {
      "cell_type": "code",
      "source": [
        "mirror_post.columns"
      ],
      "metadata": {
        "id": "dJaN8UIcb5Bp"
      },
      "execution_count": null,
      "outputs": []
    },
    {
      "cell_type": "code",
      "source": [
        "def rename_noMirror_during_column(col):\n",
        "    match = re.match(r\"during_Q(\\d+)\", col)\n",
        "    if match:\n",
        "        question_number = int(match.group(1))\n",
        "        if question_number <= 12:\n",
        "            return f\"noMirror_VEQ_{question_number}\"\n",
        "        else:\n",
        "            return f\"noMirror_RSE_{question_number - 12}\"\n",
        "    return col\n",
        "\n",
        "noMirror_during = noMirror_during.rename(columns=rename_noMirror_during_column)"
      ],
      "metadata": {
        "id": "1ZoZMg8EcDCw"
      },
      "execution_count": null,
      "outputs": []
    },
    {
      "cell_type": "code",
      "source": [
        "noMirror_during.columns"
      ],
      "metadata": {
        "id": "Nv_EJE-zdGG3"
      },
      "execution_count": null,
      "outputs": []
    },
    {
      "cell_type": "code",
      "source": [
        "def rename_noMirror_post_column(col):\n",
        "    match = re.match(r\"post_Q(\\d+)\", col)\n",
        "    if match:\n",
        "        question_number = int(match.group(1))\n",
        "        if question_number <= 12:\n",
        "            return f\"noMirror_VEQ_{question_number}\"\n",
        "        else:\n",
        "            return f\"noMirror_RSE_{question_number - 12}\"\n",
        "    return col\n",
        "\n",
        "noMirror_post = noMirror_post.rename(columns=rename_noMirror_post_column)"
      ],
      "metadata": {
        "id": "4iCr3CjgdYHV"
      },
      "execution_count": null,
      "outputs": []
    },
    {
      "cell_type": "code",
      "source": [
        "noMirror_post.columns"
      ],
      "metadata": {
        "id": "AVb7N50Edlm8"
      },
      "execution_count": null,
      "outputs": []
    },
    {
      "cell_type": "markdown",
      "source": [
        "Merge complement dfs:\n",
        "* mirror_during + mirror_post = `mirror`\n",
        "\n",
        "\n",
        "* noMirror_during + noMirror_post = `noMirror`"
      ],
      "metadata": {
        "id": "mNJw4xbIo9YX"
      }
    },
    {
      "cell_type": "code",
      "source": [
        "mirror = mirror_during.combine_first(mirror_post)\n",
        "mirror"
      ],
      "metadata": {
        "id": "iFVe0cTkfSo-"
      },
      "execution_count": null,
      "outputs": []
    },
    {
      "cell_type": "code",
      "source": [
        "noMirror = noMirror_during.combine_first(noMirror_post)\n",
        "noMirror"
      ],
      "metadata": {
        "id": "EGqf7meYfdG_"
      },
      "execution_count": null,
      "outputs": []
    },
    {
      "cell_type": "markdown",
      "source": [
        "Checking column names"
      ],
      "metadata": {
        "id": "OJyFuEJRpwUy"
      }
    },
    {
      "cell_type": "code",
      "source": [
        "pre_df.columns"
      ],
      "metadata": {
        "id": "Xiu2jdwNoB6E"
      },
      "execution_count": null,
      "outputs": []
    },
    {
      "cell_type": "code",
      "source": [
        "mirror.columns"
      ],
      "metadata": {
        "id": "Ov4Uq5NwoD0A"
      },
      "execution_count": null,
      "outputs": []
    },
    {
      "cell_type": "code",
      "source": [
        "noMirror.columns"
      ],
      "metadata": {
        "id": "Z7EP9BtloGJa"
      },
      "execution_count": null,
      "outputs": []
    },
    {
      "cell_type": "markdown",
      "source": [
        "###Numeric Mapping"
      ],
      "metadata": {
        "id": "pTCY7UC5Fi5M"
      }
    },
    {
      "cell_type": "markdown",
      "source": [
        "**RSE**\n",
        "\n",
        "Higher scores --> higher self-esteem\n",
        "\n",
        "Lower scores --> lower self-esteem\n",
        "\n",
        "**Default**\n",
        "* \"Strongly Disagree\": 1\n",
        "* \"Disagree\": 2,\n",
        "* \"Agree\": 3,\n",
        "* \"Strongly Agree\": 4\n",
        "\n",
        "**Inverse**\n",
        "* \"Strongly Disagree\": 4,\n",
        "* \"Disagree\": 3,\n",
        "* \"Agree\": 2,\n",
        "* \"Strongly Agree\": 1\n",
        "\n",
        "----------------------------------------\n",
        "\n",
        "**VEQ**\n",
        "\n",
        "Higher scores --> Grester virtual embodiment\n",
        "\n",
        "Lower scores --> Lesser virtual embodiment\n",
        "\n",
        "* Strongly Disagree: 1\n",
        "* Disagree: 2\n",
        "* Somewhat Disagree: 3\n",
        "* Neither Agree nor Disagree: 4\n",
        "* Somewhat Agree: 5\n",
        "* Agree: 6\n",
        "* Strongly Agree: 7\n"
      ],
      "metadata": {
        "id": "QU_ZMkF8LXH5"
      }
    },
    {
      "cell_type": "markdown",
      "source": [
        "RSE encoding"
      ],
      "metadata": {
        "id": "_dH3ahGzq1QE"
      }
    },
    {
      "cell_type": "code",
      "source": [
        "def encode_RSE_responses(df):\n",
        "    #Default mapping\n",
        "    default_mapping = {\n",
        "        \"Strongly Disagree\": 1,\n",
        "        \"Disagree\": 2,\n",
        "        \"Agree\": 3,\n",
        "        \"Strongly Agree\": 4\n",
        "    }\n",
        "\n",
        "    #Reverse mapping\n",
        "    reverse_mapping = {\n",
        "        \"Strongly Disagree\": 4,\n",
        "        \"Disagree\": 3,\n",
        "        \"Agree\": 2,\n",
        "        \"Strongly Agree\": 1\n",
        "    }\n",
        "\n",
        "    #Inverted fields\n",
        "    reverse_fields = [\n",
        "        \"pre_RSE_2\", \"pre_RSE_5\", \"pre_RSE_6\", \"pre_RSE_8\",\n",
        "        \"pre_RSE_9\", \"mirror_RSE_2\", \"mirror_RSE_5\",\n",
        "        \"mirror_RSE_6\", \"mirror_RSE_8\", \"mirror_RSE_9\",\n",
        "        \"noMirror_RSE_2\", \"noMirror_RSE_5\", \"noMirror_RSE_6\",\n",
        "        \"noMirror_RSE_8\", \"noMirror_RSE_9\"\n",
        "    ]\n",
        "\n",
        "    def map_responses(col):\n",
        "        if col.name in reverse_fields:\n",
        "            return col.map(reverse_mapping).fillna(col)\n",
        "        return col.map(default_mapping).fillna(col)\n",
        "\n",
        "    #Only apply encoding to fields containing \"RSE\"\n",
        "    return df.apply(lambda col: map_responses(col) if \"RSE\" in col.name else col)"
      ],
      "metadata": {
        "id": "zYnpZXAR6r5l"
      },
      "execution_count": null,
      "outputs": []
    },
    {
      "cell_type": "code",
      "source": [
        "pre_df"
      ],
      "metadata": {
        "id": "eotsp_ZsppQ_"
      },
      "execution_count": null,
      "outputs": []
    },
    {
      "cell_type": "code",
      "source": [
        "encoded_pre = encode_RSE_responses(pre_df)\n",
        "encoded_pre"
      ],
      "metadata": {
        "id": "XTzhe2M77U2M"
      },
      "execution_count": null,
      "outputs": []
    },
    {
      "cell_type": "code",
      "source": [
        "mirror"
      ],
      "metadata": {
        "id": "4XE8QOWAtOFu"
      },
      "execution_count": null,
      "outputs": []
    },
    {
      "cell_type": "code",
      "source": [
        "encoded_mirror = encode_RSE_responses(mirror)\n",
        "encoded_mirror"
      ],
      "metadata": {
        "id": "ng-KbRELtPm4"
      },
      "execution_count": null,
      "outputs": []
    },
    {
      "cell_type": "code",
      "source": [
        "noMirror"
      ],
      "metadata": {
        "id": "4_e3piU0v_Mu"
      },
      "execution_count": null,
      "outputs": []
    },
    {
      "cell_type": "code",
      "source": [
        "encoded_noMirror = encode_RSE_responses(noMirror)\n",
        "encoded_noMirror"
      ],
      "metadata": {
        "id": "n-ZWU-SKv7BZ"
      },
      "execution_count": null,
      "outputs": []
    },
    {
      "cell_type": "markdown",
      "source": [
        "VEQ encoding"
      ],
      "metadata": {
        "id": "KRtR0vYbs75r"
      }
    },
    {
      "cell_type": "code",
      "source": [
        "def encode_VEQ_responses(df):\n",
        "\n",
        "    mapping = {\n",
        "        \"Strongly Disagree\": 1,\n",
        "        \"Disagree\": 2,\n",
        "        \"Somewhat Disagree\": 3,\n",
        "        \"Neither Agree nor Disagree\": 4,\n",
        "        \"Somewhat Agree\": 5,\n",
        "        \"Agree\": 6,\n",
        "        \"Strongly Agree\": 7\n",
        "    }\n",
        "\n",
        "    def map_responses(col):\n",
        "        return col.map(mapping).fillna(col)\n",
        "\n",
        "    #Only apply encoding to fields containing \"VEQ\"\n",
        "    return df.apply(lambda col: map_responses(col) if \"VEQ\" in col.name else col)"
      ],
      "metadata": {
        "id": "GI7gHfg7wQPx"
      },
      "execution_count": null,
      "outputs": []
    },
    {
      "cell_type": "code",
      "source": [
        "encoded_mirror"
      ],
      "metadata": {
        "id": "SaWLcB6txLgQ"
      },
      "execution_count": null,
      "outputs": []
    },
    {
      "cell_type": "code",
      "source": [
        "encoded_mirror = encode_VEQ_responses(encoded_mirror)\n",
        "encoded_mirror"
      ],
      "metadata": {
        "id": "jbGLpU2yxFx2"
      },
      "execution_count": null,
      "outputs": []
    },
    {
      "cell_type": "code",
      "source": [
        "encoded_noMirror"
      ],
      "metadata": {
        "id": "k_RI-ga5xqJv"
      },
      "execution_count": null,
      "outputs": []
    },
    {
      "cell_type": "code",
      "source": [
        "encoded_noMirror = encode_VEQ_responses(encoded_noMirror)\n",
        "encoded_noMirror"
      ],
      "metadata": {
        "id": "JaKfcR8mxm2r"
      },
      "execution_count": null,
      "outputs": []
    },
    {
      "cell_type": "code",
      "source": [
        "encoded_pre.head()"
      ],
      "metadata": {
        "id": "2UHe-k9sxzA0"
      },
      "execution_count": null,
      "outputs": []
    },
    {
      "cell_type": "code",
      "source": [
        "encoded_mirror.head()"
      ],
      "metadata": {
        "id": "A-zrk8eCx3_z"
      },
      "execution_count": null,
      "outputs": []
    },
    {
      "cell_type": "code",
      "source": [
        "encoded_noMirror.head()"
      ],
      "metadata": {
        "id": "t0zTFTuzx7ZR"
      },
      "execution_count": null,
      "outputs": []
    },
    {
      "cell_type": "markdown",
      "source": [
        "## Analysis"
      ],
      "metadata": {
        "id": "CRDitsiYGW_o"
      }
    },
    {
      "cell_type": "markdown",
      "source": [
        "### Pre-Assessment"
      ],
      "metadata": {
        "id": "D9wp5N3gMphQ"
      }
    },
    {
      "cell_type": "markdown",
      "source": [
        "#### RSE"
      ],
      "metadata": {
        "id": "a2YMDe2BzMKQ"
      }
    },
    {
      "cell_type": "markdown",
      "source": [
        "##### By Question"
      ],
      "metadata": {
        "id": "XpqWDgmqMsFu"
      }
    },
    {
      "cell_type": "code",
      "source": [
        "pre_columns = ['pre_RSE_1', 'pre_RSE_2', 'pre_RSE_3', 'pre_RSE_4', 'pre_RSE_5', 'pre_RSE_6', 'pre_RSE_7', 'pre_RSE_8', 'pre_RSE_9', 'pre_RSE_10']\n",
        "\n",
        "for col in pre_columns:\n",
        "    print(f\"Mean {col}: {encoded_pre[col].mean()}\")"
      ],
      "metadata": {
        "id": "47_u35Xs7sGQ"
      },
      "execution_count": null,
      "outputs": []
    },
    {
      "cell_type": "markdown",
      "source": [
        "##### By Participant"
      ],
      "metadata": {
        "id": "jC6PuS-QzQ3Y"
      }
    },
    {
      "cell_type": "code",
      "source": [
        "#row averages\n",
        "encoded_pre['row_mean'] = encoded_pre[pre_columns].mean(axis=1)\n",
        "\n",
        "print(encoded_pre[['ID', 'row_mean']])"
      ],
      "metadata": {
        "id": "Vqc-w7B6z2J1"
      },
      "execution_count": null,
      "outputs": []
    },
    {
      "cell_type": "markdown",
      "source": [
        "##### Overall"
      ],
      "metadata": {
        "id": "_XBuqTJfMuWz"
      }
    },
    {
      "cell_type": "code",
      "source": [
        "overall_pre_average = sum(encoded_pre[col].mean() for col in pre_columns) / len(pre_columns)\n",
        "print(f\"Overall RSE average for Pre-assessment (column-wise mean): {overall_pre_average}\")"
      ],
      "metadata": {
        "id": "8m6-t3WQMgp9"
      },
      "execution_count": null,
      "outputs": []
    },
    {
      "cell_type": "markdown",
      "source": [
        "### With Mirror"
      ],
      "metadata": {
        "id": "DQ8e7Z4ENhjz"
      }
    },
    {
      "cell_type": "markdown",
      "source": [
        "#### RSE"
      ],
      "metadata": {
        "id": "tiiSuJw00vlZ"
      }
    },
    {
      "cell_type": "markdown",
      "source": [
        "##### By Question"
      ],
      "metadata": {
        "id": "JpfTy5Wo5AUS"
      }
    },
    {
      "cell_type": "code",
      "source": [
        "mirror_rse_columns = ['mirror_RSE_1', 'mirror_RSE_2', 'mirror_RSE_3', 'mirror_RSE_4', 'mirror_RSE_5', 'mirror_RSE_6', 'mirror_RSE_7', 'mirror_RSE_8', 'mirror_RSE_9', 'mirror_RSE_10']\n",
        "\n",
        "for col in mirror_rse_columns:\n",
        "    print(f\"Mean {col}: {encoded_mirror[col].mean()}\")"
      ],
      "metadata": {
        "id": "bj_Rydv92qE1"
      },
      "execution_count": null,
      "outputs": []
    },
    {
      "cell_type": "markdown",
      "source": [
        "#####By Participant"
      ],
      "metadata": {
        "id": "oybkWOfw5YIc"
      }
    },
    {
      "cell_type": "code",
      "source": [
        "#row averages\n",
        "encoded_mirror['row_mean'] = encoded_mirror[mirror_rse_columns].mean(axis=1)\n",
        "\n",
        "print(encoded_mirror[['ID', 'row_mean']])"
      ],
      "metadata": {
        "id": "ruRLE0u45eYq"
      },
      "execution_count": null,
      "outputs": []
    },
    {
      "cell_type": "markdown",
      "source": [
        "##### Overall"
      ],
      "metadata": {
        "id": "cn_Wu8Vb5cZ6"
      }
    },
    {
      "cell_type": "code",
      "source": [
        "overall_mirror_average = sum(encoded_mirror[col].mean() for col in mirror_rse_columns) / len(mirror_rse_columns)\n",
        "print(f\"Overall RSE average for Mirror Condition (column-wise mean): {overall_mirror_average}\")"
      ],
      "metadata": {
        "id": "oapTterp6MCb"
      },
      "execution_count": null,
      "outputs": []
    },
    {
      "cell_type": "markdown",
      "source": [
        "#### VEQ"
      ],
      "metadata": {
        "id": "_JBFT8jd0wkK"
      }
    },
    {
      "cell_type": "markdown",
      "source": [
        "##### By Question"
      ],
      "metadata": {
        "id": "jwQ3kTPH7l9t"
      }
    },
    {
      "cell_type": "code",
      "source": [
        "mirror_veq_columns = ['mirror_VEQ_1', 'mirror_VEQ_2', 'mirror_VEQ_3',\n",
        "       'mirror_VEQ_4', 'mirror_VEQ_5', 'mirror_VEQ_6', 'mirror_VEQ_7',\n",
        "       'mirror_VEQ_8', 'mirror_VEQ_9', 'mirror_VEQ_10', 'mirror_VEQ_11',\n",
        "       'mirror_VEQ_12']\n",
        "\n",
        "for col in mirror_veq_columns:\n",
        "    print(f\"Mean {col}: {encoded_mirror[col].mean()}\")"
      ],
      "metadata": {
        "id": "Bup9Jzsz2qnm"
      },
      "execution_count": null,
      "outputs": []
    },
    {
      "cell_type": "markdown",
      "source": [
        "##### By Participant"
      ],
      "metadata": {
        "id": "nJ7DTky17qzg"
      }
    },
    {
      "cell_type": "code",
      "source": [
        "#row averages\n",
        "encoded_mirror['row_mean'] = encoded_mirror[mirror_veq_columns].mean(axis=1)\n",
        "\n",
        "print(encoded_mirror[['ID', 'row_mean']])"
      ],
      "metadata": {
        "id": "92PjKE117u3C"
      },
      "execution_count": null,
      "outputs": []
    },
    {
      "cell_type": "markdown",
      "source": [
        "##### Overall"
      ],
      "metadata": {
        "id": "OKQknQt07sk3"
      }
    },
    {
      "cell_type": "code",
      "source": [
        "overall_mirror_veq_average = sum(encoded_mirror[col].mean() for col in mirror_veq_columns) / len(mirror_veq_columns)\n",
        "print(f\"Overall VEQ average for Mirror Condition (column-wise mean): {overall_mirror_veq_average}\")"
      ],
      "metadata": {
        "id": "nQyDz02R79Vy"
      },
      "execution_count": null,
      "outputs": []
    },
    {
      "cell_type": "markdown",
      "source": [
        "### Without Mirror"
      ],
      "metadata": {
        "id": "1LVVtxcWNkez"
      }
    },
    {
      "cell_type": "markdown",
      "source": [
        "#### RSE"
      ],
      "metadata": {
        "id": "SheK7CNF0yW6"
      }
    },
    {
      "cell_type": "markdown",
      "source": [
        "##### By Question"
      ],
      "metadata": {
        "id": "g5H1KDIv5wuC"
      }
    },
    {
      "cell_type": "code",
      "source": [
        "noMirror_rse_columns = ['noMirror_RSE_1', 'noMirror_RSE_2', 'noMirror_RSE_3', 'noMirror_RSE_4', 'noMirror_RSE_5', 'noMirror_RSE_6', 'noMirror_RSE_7', 'noMirror_RSE_8', 'noMirror_RSE_9', 'noMirror_RSE_10']\n",
        "\n",
        "for col in noMirror_rse_columns:\n",
        "    print(f\"Mean {col}: {encoded_noMirror[col].mean()}\")"
      ],
      "metadata": {
        "id": "mhOXYCfe36OP"
      },
      "execution_count": null,
      "outputs": []
    },
    {
      "cell_type": "markdown",
      "source": [
        "##### By Participant"
      ],
      "metadata": {
        "id": "azq7obzP5yyT"
      }
    },
    {
      "cell_type": "code",
      "source": [
        "#row averages\n",
        "encoded_noMirror['row_mean'] = encoded_noMirror[noMirror_rse_columns].mean(axis=1)\n",
        "\n",
        "print(encoded_noMirror[['ID', 'row_mean']])"
      ],
      "metadata": {
        "id": "xsvwi-cA597V"
      },
      "execution_count": null,
      "outputs": []
    },
    {
      "cell_type": "markdown",
      "source": [
        "##### Overall"
      ],
      "metadata": {
        "id": "I2YzIeOL51Dz"
      }
    },
    {
      "cell_type": "code",
      "source": [
        "overall_noMirror_average = sum(encoded_noMirror[col].mean() for col in noMirror_rse_columns) / len(noMirror_rse_columns)\n",
        "print(f\"Overall RSE average for No Mirror Condition (column-wise mean): {overall_noMirror_average}\")"
      ],
      "metadata": {
        "id": "dKkloRfT6cB_"
      },
      "execution_count": null,
      "outputs": []
    },
    {
      "cell_type": "markdown",
      "source": [
        "####VEQ"
      ],
      "metadata": {
        "id": "8Wbo7neN0zG6"
      }
    },
    {
      "cell_type": "markdown",
      "source": [
        "##### By Question"
      ],
      "metadata": {
        "id": "F6Z2lWpe8QZY"
      }
    },
    {
      "cell_type": "code",
      "source": [
        "noMirror_veq_columns = ['noMirror_VEQ_1', 'noMirror_VEQ_2',\n",
        "       'noMirror_VEQ_3', 'noMirror_VEQ_4', 'noMirror_VEQ_5', 'noMirror_VEQ_6',\n",
        "       'noMirror_VEQ_7', 'noMirror_VEQ_8', 'noMirror_VEQ_9', 'noMirror_VEQ_10',\n",
        "       'noMirror_VEQ_11', 'noMirror_VEQ_12']\n",
        "\n",
        "for col in noMirror_veq_columns:\n",
        "    print(f\"Mean {col}: {encoded_noMirror[col].mean()}\")"
      ],
      "metadata": {
        "id": "N_NmMi_g8joD"
      },
      "execution_count": null,
      "outputs": []
    },
    {
      "cell_type": "markdown",
      "source": [
        "##### By Participant"
      ],
      "metadata": {
        "id": "hx6G4PCT8SXD"
      }
    },
    {
      "cell_type": "code",
      "source": [
        "#row averages\n",
        "encoded_noMirror['row_mean'] = encoded_noMirror[noMirror_veq_columns].mean(axis=1)\n",
        "\n",
        "print(encoded_noMirror[['ID', 'row_mean']])"
      ],
      "metadata": {
        "id": "awe_aS6F8zMa"
      },
      "execution_count": null,
      "outputs": []
    },
    {
      "cell_type": "markdown",
      "source": [
        "##### Overall"
      ],
      "metadata": {
        "id": "8BNr-3lv8iC_"
      }
    },
    {
      "cell_type": "code",
      "source": [
        "overall_noMirror_veg_average = sum(encoded_noMirror[col].mean() for col in noMirror_veq_columns) / len(noMirror_veq_columns)\n",
        "print(f\"Overall VEQ average for No Mirror Condition (column-wise mean): {overall_noMirror_veg_average}\")"
      ],
      "metadata": {
        "id": "uzksskNq889Q"
      },
      "execution_count": null,
      "outputs": []
    },
    {
      "cell_type": "markdown",
      "source": [
        "Figures"
      ],
      "metadata": {
        "id": "ZEjGkFLVxbLP"
      }
    },
    {
      "cell_type": "code",
      "source": [
        "#Participant RSE Line Graph\n",
        "\n",
        "rse_avg_data = {\n",
        "    \"Participant\": [\"P1\", \"P2\", \"P3\", \"P4\", \"P5\", \"P6\", \"P7\", \"P8\", \"P9\", \"P10\"],\n",
        "    \"Baseline\": [3.2, 2.4, 2.5, 3.0, 3.7, 3.6, 3.8, 3.7, 3.1, 3.1],\n",
        "    \"Without Mirror\": [3.6, 3.2, 3.7, 3.7, 3.3, 3.2, 3.3, 2.2, 3.4, 3.5],\n",
        "    \"With Mirror\": [3.0, 2.8, 3.2, 3.1, 3.7, 3.3, 3.8, 3.7, 3.7, 2.9]\n",
        "}\n",
        "\n",
        "rse_avg_df = pd.DataFrame(rse_avg_data)\n",
        "rse_avg_df"
      ],
      "metadata": {
        "id": "Lugsl8d9xaRN"
      },
      "execution_count": null,
      "outputs": []
    },
    {
      "cell_type": "code",
      "source": [
        "conditions = [\"Baseline\", \"Without Virtual Mirror\", \"With Virtual Mirror\"]\n",
        "x_positions = range(len(conditions))\n",
        "\n",
        "plt.figure(figsize=(10, 6))\n",
        "for _, row in rse_avg_df.iterrows():\n",
        "    scores = [row[\"Baseline\"], row[\"Without Mirror\"], row[\"With Mirror\"]]\n",
        "    plt.plot(x_positions, scores, marker='o', label=row[\"Participant\"])\n",
        "\n",
        "plt.xticks(x_positions, conditions)\n",
        "plt.xlabel(\"Condition\")\n",
        "plt.ylabel(\"Average RSE Score\")\n",
        "plt.title(\"Participant Self-Esteem Score at Baseline & With/Without Virtual Mirror (By Participant)\")\n",
        "plt.legend(title=\"Participant\", bbox_to_anchor=(1.05, 1), loc='upper left')\n",
        "plt.grid(True, linestyle='--', alpha=0.5)\n",
        "\n",
        "plt.tight_layout()\n",
        "plt.savefig(\"high_quality_linePlot.png\", dpi=500, bbox_inches='tight')\n",
        "plt.show()"
      ],
      "metadata": {
        "id": "-OJMk_Npx_V6"
      },
      "execution_count": null,
      "outputs": []
    },
    {
      "cell_type": "code",
      "source": [
        "#Boxplots\n",
        "\n",
        "plt.figure(figsize=(8, 6))\n",
        "\n",
        "data = [rse_avg_df[\"Baseline\"], rse_avg_df[\"Without Mirror\"], rse_avg_df[\"With Mirror\"],]\n",
        "labels = [\"Baseline\", \"Without Virtual Mirror\", \"With Virtual Mirror\"]\n",
        "\n",
        "plt.boxplot(data, labels=labels, patch_artist=True, boxprops=dict(facecolor=\"purple\"))\n",
        "\n",
        "plt.title(\"Participant Self-Esteem Score at Baseline & With/Without Virtual Mirror (Overall)\")\n",
        "plt.ylabel(\"Average RSE Score\")\n",
        "plt.grid(axis=\"y\", linestyle=\"--\", alpha=0.5)\n",
        "\n",
        "plt.tight_layout()\n",
        "plt.savefig(\"high_quality_boxPlot.png\", dpi=500, bbox_inches='tight')\n",
        "plt.show()"
      ],
      "metadata": {
        "id": "rU3cFlCK05t4"
      },
      "execution_count": null,
      "outputs": []
    },
    {
      "cell_type": "code",
      "source": [
        "participants = ['P1', 'P2', 'P3', 'P4', 'P5', 'P6', 'P7', 'P8', 'P9', 'P10']\n",
        "veq_without_mirror = [4.5, 6.3, 3.3, 3.7, 4.3, 6.2, 5.3, 3.7, 4.8, 4.7]\n",
        "veq_with_mirror = [4.6, 6.3, 4.8, 4.1, 2.8, 4.8, 5.6, 2.8, 2.2, 5.5]\n",
        "\n",
        "x = np.arange(len(participants))\n",
        "width = 0.35\n",
        "\n",
        "fig, ax = plt.subplots(figsize=(10, 6))\n",
        "bars1 = ax.bar(x - width/2, veq_without_mirror, width, label='Without Virtual Mirror', color='skyblue')\n",
        "bars2 = ax.bar(x + width/2, veq_with_mirror, width, label='With Virtual Mirror', color='orange')\n",
        "plt.grid(axis=\"y\", linestyle=\"--\", alpha=0.7)\n",
        "\n",
        "ax.set_xlabel('Participants')\n",
        "ax.set_ylabel('Average VEQ Scores')\n",
        "ax.set_title('Average Virtual Embodiment Scores by Participant')\n",
        "ax.set_xticks(x)\n",
        "ax.set_xticklabels(participants)\n",
        "ax.legend()\n",
        "\n",
        "plt.tight_layout()\n",
        "plt.savefig(\"high_quality_barPlot.png\", dpi=500, bbox_inches='tight')\n",
        "plt.show()"
      ],
      "metadata": {
        "id": "Upgfoq09RJJf"
      },
      "execution_count": null,
      "outputs": []
    },
    {
      "cell_type": "code",
      "source": [
        "veq_avg_data = {\n",
        "    \"Participant\": [\"P1\", \"P2\", \"P3\", \"P4\", \"P5\", \"P6\", \"P7\", \"P8\", \"P9\", \"P10\"],\n",
        "    \"Without Mirror\": [4.5, 6.3, 3.3, 3.7, 4.3, 6.2, 5.3, 3.7, 4.8, 4.7],\n",
        "    \"With Mirror\": [4.6, 6.3, 4.8, 4.1, 2.8, 4.8, 5.6, 2.8, 2.2, 5.5]\n",
        "}\n",
        "\n",
        "veq_avg_data = pd.DataFrame(veq_avg_data)\n",
        "veq_avg_data"
      ],
      "metadata": {
        "id": "FO6Lk_hv6tqa"
      },
      "execution_count": null,
      "outputs": []
    },
    {
      "cell_type": "code",
      "source": [
        "#Boxplots\n",
        "\n",
        "plt.figure(figsize=(8, 6))\n",
        "\n",
        "data = [veq_avg_data[\"Without Mirror\"], rse_avg_df[\"With Mirror\"],]\n",
        "labels = [\"Without Virtual Mirror\", \"With Virtual Mirror\"]\n",
        "\n",
        "plt.boxplot(data, labels=labels, patch_artist=True, boxprops=dict(facecolor=\"purple\"))\n",
        "\n",
        "plt.title(\"Participant Virtual Embodiment Score With & Without Virtual Mirror\")\n",
        "plt.ylabel(\"Average VEQ Score\")\n",
        "plt.grid(axis=\"y\", linestyle=\"--\", alpha=0.5)\n",
        "\n",
        "plt.tight_layout()\n",
        "plt.savefig(\"high_quality_veq_boxPlot.png\", dpi=500, bbox_inches='tight')\n",
        "plt.show()"
      ],
      "metadata": {
        "id": "upiHzCmG6jT0"
      },
      "execution_count": null,
      "outputs": []
    },
    {
      "cell_type": "code",
      "source": [
        "conditions = [\"Without Virtual Mirror\", \"With Virtual Mirror\"]\n",
        "x_positions = range(len(conditions))\n",
        "\n",
        "plt.figure(figsize=(10, 6))\n",
        "for _, row in veq_avg_data.iterrows():\n",
        "    scores = [row[\"Without Mirror\"], row[\"With Mirror\"]]\n",
        "    plt.plot(x_positions, scores, marker='o', label=row[\"Participant\"])\n",
        "\n",
        "plt.xticks(x_positions, conditions)\n",
        "plt.xlabel(\"Condition\")\n",
        "plt.ylabel(\"Average VEQ Score\")\n",
        "plt.title(\"Participant Virtual Embodiment Score With and Without Virtual Mirror\")\n",
        "plt.legend(title=\"Participant\", bbox_to_anchor=(1.05, 1), loc='upper left')\n",
        "plt.grid(True, linestyle='--', alpha=0.5)\n",
        "\n",
        "plt.tight_layout()\n",
        "plt.savefig(\"high_quality_veq_linePlot.png\", dpi=500, bbox_inches='tight')\n",
        "plt.show()"
      ],
      "metadata": {
        "id": "OSz_2DFuEfbl"
      },
      "execution_count": null,
      "outputs": []
    },
    {
      "cell_type": "markdown",
      "source": [
        "Tables"
      ],
      "metadata": {
        "id": "zScKnKTPAfev"
      }
    },
    {
      "cell_type": "code",
      "source": [
        "#Score by question\n",
        "\n",
        "rse_avg_data_q = {\n",
        "    \"Question\": [\"Q1\", \"Q2\", \"Q3\", \"Q4\", \"Q5\", \"Q6\", \"Q7\", \"Q8\", \"Q9\", \"Q10\"],\n",
        "    \"Baseline\": [3.5, 2.9, 3.4, 3.5, 3.2, 3.0, 3.2, 2.2, 3.7, 3.5],\n",
        "    \"Without Mirror\": [3.6, 3.2, 3.7, 3.7, 3.3, 3.2, 3.3, 2.2, 3.4, 3.5],\n",
        "    \"With Mirror\": [3.3, 3.3, 3.6, 3.7, 3.3, 3.2, 3.4, 2.0, 3.7, 3.7]\n",
        "}\n",
        "\n",
        "rse_avg_q_df = pd.DataFrame(rse_avg_data_q)\n",
        "\n",
        "rse_avg_q_df['% Change Baseline to Without Mirror'] = ((rse_avg_q_df['Without Mirror'] - rse_avg_q_df['Baseline']) / rse_avg_q_df['Baseline']) * 100\n",
        "rse_avg_q_df['% Change Baseline to With Mirror'] = ((rse_avg_q_df['With Mirror'] - rse_avg_q_df['Baseline']) / rse_avg_q_df['Baseline']) * 100\n",
        "rse_avg_q_df['% Difference Without vs With Mirror'] = ((rse_avg_q_df['Without Mirror'] - rse_avg_q_df['With Mirror']).abs() / ((rse_avg_q_df['Without Mirror'] + rse_avg_q_df['With Mirror']) / 2)) * 100\n",
        "\n",
        "rse_avg_q_df\n"
      ],
      "metadata": {
        "id": "5mkYborgA0hs"
      },
      "execution_count": null,
      "outputs": []
    },
    {
      "cell_type": "code",
      "source": [
        "#Score by participant\n",
        "\n",
        "rse_avg_data = {\n",
        "    \"Participant\": [\"P1\", \"P2\", \"P3\", \"P4\", \"P5\", \"P6\", \"P7\", \"P8\", \"P9\", \"P10\"],\n",
        "    \"Baseline\": [3.2, 2.4, 2.5, 3.0, 3.7, 3.6, 3.8, 3.7, 3.1, 3.1],\n",
        "    \"Without Mirror\": [3.6, 3.2, 3.7, 3.7, 3.3, 3.2, 3.3, 2.2, 3.4, 3.5],\n",
        "    \"With Mirror\": [3.0, 2.8, 3.2, 3.1, 3.7, 3.3, 3.8, 3.7, 3.7, 2.9]\n",
        "}\n",
        "\n",
        "rse_avg_df = pd.DataFrame(rse_avg_data)\n",
        "\n",
        "rse_avg_df['% Change Baseline to Without Mirror'] = ((rse_avg_df['Without Mirror'] - rse_avg_df['Baseline']) / rse_avg_df['Baseline']) * 100\n",
        "rse_avg_df['% Change Baseline to With Mirror'] = ((rse_avg_df['With Mirror'] - rse_avg_df['Baseline']) / rse_avg_df['Baseline']) * 100\n",
        "rse_avg_df['% Difference Without vs With Mirror'] = ((rse_avg_df['Without Mirror'] - rse_avg_df['With Mirror']).abs() / ((rse_avg_df['Without Mirror'] + rse_avg_df['With Mirror']) / 2)) * 100\n",
        "\n",
        "rse_avg_df"
      ],
      "metadata": {
        "id": "0z1y7iuR-JlZ"
      },
      "execution_count": null,
      "outputs": []
    },
    {
      "cell_type": "code",
      "source": [
        "#VEQ % diff\n",
        "\n",
        "VEQ_avg_data = {\n",
        "    \"Participant\": [\"P1\", \"P2\", \"P3\", \"P4\", \"P5\", \"P6\", \"P7\", \"P8\", \"P9\", \"P10\"],\n",
        "    \"Without Mirror\": [4.5, 6.3, 3.3, 3.7, 4.3, 6.2, 5.3, 3.7, 4.8, 4.7],\n",
        "    \"With Mirror\": [4.6, 6.3, 4.8, 4.1, 2.8, 4.8, 5.6, 2.8, 2.2, 5.5]\n",
        "}\n",
        "\n",
        "veq_avg_df = pd.DataFrame(VEQ_avg_data)\n",
        "\n",
        "veq_avg_df['% Difference Without vs With Mirror'] = ((veq_avg_df['Without Mirror'] - veq_avg_df['With Mirror']).abs() / ((veq_avg_df['Without Mirror'] + veq_avg_df['With Mirror']) / 2)) * 100\n",
        "\n",
        "veq_avg_df"
      ],
      "metadata": {
        "id": "bYXIniSlDVIO"
      },
      "execution_count": null,
      "outputs": []
    },
    {
      "cell_type": "markdown",
      "source": [
        "##Wilcoxon signed-rank test"
      ],
      "metadata": {
        "id": "91A8Rz3lkoSA"
      }
    },
    {
      "cell_type": "markdown",
      "source": [
        "### Self Esteem"
      ],
      "metadata": {
        "id": "IDIv2pBw7ejS"
      }
    },
    {
      "cell_type": "code",
      "source": [
        "from scipy.stats import wilcoxon"
      ],
      "metadata": {
        "id": "SXkAFkobkrPx"
      },
      "execution_count": null,
      "outputs": []
    },
    {
      "cell_type": "code",
      "source": [
        "baseline = [3.2, 2.4, 2.5, 3.0, 3.7, 3.6, 3.8, 3.7, 3.1, 3.1]\n",
        "without_mirror = [3.6, 3.2, 3.7, 3.7, 3.3, 3.2, 3.3, 2.2, 3.4, 3.5]\n",
        "with_mirror = [3.0, 2.8, 3.2, 3.1, 3.7, 3.3, 3.8, 3.7, 3.7, 2.9]"
      ],
      "metadata": {
        "id": "mcXoqo4Bk4W8"
      },
      "execution_count": null,
      "outputs": []
    },
    {
      "cell_type": "code",
      "source": [
        "stat, p = wilcoxon(baseline, without_mirror)\n",
        "\n",
        "print(f\"Test Statistic: {stat}\")\n",
        "print(f\"P-Value: {p}\")\n"
      ],
      "metadata": {
        "id": "TmEFKHaKlBiD"
      },
      "execution_count": null,
      "outputs": []
    },
    {
      "cell_type": "code",
      "source": [
        "stat, p = wilcoxon(baseline, with_mirror)\n",
        "\n",
        "print(f\"Test Statistic: {stat}\")\n",
        "print(f\"P-Value: {p}\")"
      ],
      "metadata": {
        "id": "5hAGFdUqlbIl"
      },
      "execution_count": null,
      "outputs": []
    },
    {
      "cell_type": "code",
      "source": [
        "stat, p = wilcoxon(without_mirror, with_mirror)\n",
        "\n",
        "print(f\"Test Statistic: {stat}\")\n",
        "print(f\"P-Value: {p}\")"
      ],
      "metadata": {
        "id": "bIOMWe7Fl8pJ"
      },
      "execution_count": null,
      "outputs": []
    },
    {
      "cell_type": "markdown",
      "source": [
        "### Virtual Embodiment"
      ],
      "metadata": {
        "id": "IeOIZI9p7k7j"
      }
    },
    {
      "cell_type": "code",
      "source": [
        "veq_without_mirror = [4.5, 6.3, 3.3, 3.7, 4.3, 6.2, 5.3, 3.7, 4.8, 4.7]\n",
        "veq_with_mirror = [4.6, 6.3, 4.8, 4.1, 2.8, 4.8, 5.6, 2.8, 2.2, 5.5]"
      ],
      "metadata": {
        "id": "f2AbbfSf7k7k"
      },
      "execution_count": null,
      "outputs": []
    },
    {
      "cell_type": "code",
      "source": [
        "stat, p = wilcoxon(veq_without_mirror, veq_with_mirror)\n",
        "\n",
        "print(f\"Test Statistic: {stat}\")\n",
        "print(f\"P-Value: {p}\")\n"
      ],
      "metadata": {
        "id": "04yIfA0T7k7l"
      },
      "execution_count": null,
      "outputs": []
    }
  ]
}